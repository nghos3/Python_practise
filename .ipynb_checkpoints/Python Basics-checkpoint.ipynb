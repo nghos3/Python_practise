{
 "cells": [
  {
   "cell_type": "code",
   "execution_count": 12,
   "metadata": {},
   "outputs": [
    {
     "data": {
      "text/plain": [
       "9"
      ]
     },
     "execution_count": 12,
     "metadata": {},
     "output_type": "execute_result"
    }
   ],
   "source": [
    "# assign value to variable\n",
    "x=5\n",
    "y=4\n",
    "x+y"
   ]
  },
  {
   "cell_type": "code",
   "execution_count": 18,
   "metadata": {},
   "outputs": [
    {
     "data": {
      "text/plain": [
       "11"
      ]
     },
     "execution_count": 18,
     "metadata": {},
     "output_type": "execute_result"
    }
   ],
   "source": [
    "def add_numbers(x, y): #add\n",
    "    return x+y\n",
    "\n",
    "add_numbers(5, 6)"
   ]
  },
  {
   "cell_type": "code",
   "execution_count": 25,
   "metadata": {},
   "outputs": [
    {
     "name": "stdout",
     "output_type": "stream",
     "text": [
      "5\n",
      "9\n"
     ]
    }
   ],
   "source": [
    "#function which adds \n",
    "def add_numbers(x, y, z=None):\n",
    "    if (z == None):# none is a type of object of type 'none' \n",
    "        return x+y\n",
    " \n",
    "    else:\n",
    "        return x+y+z\n",
    "\n",
    "print(add_numbers(2, 3));\n",
    "print(add_numbers(2, 3, 4));"
   ]
  },
  {
   "cell_type": "code",
   "execution_count": 5,
   "metadata": {},
   "outputs": [
    {
     "name": "stdout",
     "output_type": "stream",
     "text": [
      "<class 'NoneType'>\n",
      "False\n",
      "False\n"
     ]
    }
   ],
   "source": [
    "#None type\n",
    "def add():\n",
    "    a=3+5\n",
    "    b=4+5\n",
    "    \n",
    "temp = add()\n",
    "print(type(temp)) # add will have type of none as it return nothing\n",
    "print(None== 0)\n",
    "print(None== False)\n",
    "    "
   ]
  },
  {
   "cell_type": "code",
   "execution_count": 1,
   "metadata": {},
   "outputs": [
    {
     "name": "stdout",
     "output_type": "stream",
     "text": [
      "Flag is False\n",
      "Flag is true\n"
     ]
    },
    {
     "data": {
      "text/plain": [
       "6"
      ]
     },
     "execution_count": 1,
     "metadata": {},
     "output_type": "execute_result"
    }
   ],
   "source": [
    "#Python suports function overloading\n",
    "def add_numbers(x, y, z=None, flag=False):\n",
    "    if(flag):\n",
    "        print(\"Flag is true\")\n",
    "        if(z == None):\n",
    "            return x+y\n",
    "        else:\n",
    "            return x+y+z       \n",
    "    else:\n",
    "        print(\"Flag is False\")\n",
    "add_numbers(1, 2, 3, False)\n",
    "add_numbers(1, 2, 3, True)"
   ]
  },
  {
   "cell_type": "code",
   "execution_count": 12,
   "metadata": {},
   "outputs": [
    {
     "name": "stdout",
     "output_type": "stream",
     "text": [
      "<class 'str'>\n",
      "<class 'NoneType'>\n",
      "<class 'float'>\n"
     ]
    },
    {
     "data": {
      "text/plain": [
       "function"
      ]
     },
     "execution_count": 12,
     "metadata": {},
     "output_type": "execute_result"
    }
   ],
   "source": [
    "#Types in Python\n",
    "print(type('this is a string'))\n",
    "print(type(None))\n",
    "print(type(1.0))\n",
    "type(add_numbers)"
   ]
  }
 ],
 "metadata": {
  "kernelspec": {
   "display_name": "Python 3",
   "language": "python",
   "name": "python3"
  },
  "language_info": {
   "codemirror_mode": {
    "name": "ipython",
    "version": 3
   },
   "file_extension": ".py",
   "mimetype": "text/x-python",
   "name": "python",
   "nbconvert_exporter": "python",
   "pygments_lexer": "ipython3",
   "version": "3.7.1"
  }
 },
 "nbformat": 4,
 "nbformat_minor": 2
}
